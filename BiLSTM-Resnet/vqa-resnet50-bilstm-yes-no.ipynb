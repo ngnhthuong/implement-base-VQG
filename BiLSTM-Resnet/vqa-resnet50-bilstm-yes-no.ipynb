{
 "cells": [
  {
   "cell_type": "markdown",
   "id": "2350d061",
   "metadata": {
    "papermill": {
     "duration": 0.007719,
     "end_time": "2024-10-20T15:07:04.848304",
     "exception": false,
     "start_time": "2024-10-20T15:07:04.840585",
     "status": "completed"
    },
    "tags": []
   },
   "source": [
    "# Libaries"
   ]
  },
  {
   "cell_type": "code",
   "execution_count": 16,
   "id": "b142ebbc",
   "metadata": {
    "execution": {
     "iopub.execute_input": "2024-10-20T15:07:19.160795Z",
     "iopub.status.busy": "2024-10-20T15:07:19.160463Z",
     "iopub.status.idle": "2024-10-20T15:07:22.022126Z",
     "shell.execute_reply": "2024-10-20T15:07:22.020848Z"
    },
    "papermill": {
     "duration": 2.87295,
     "end_time": "2024-10-20T15:07:22.024619",
     "exception": false,
     "start_time": "2024-10-20T15:07:19.151669",
     "status": "completed"
    },
    "tags": []
   },
   "outputs": [
    {
     "name": "stdout",
     "output_type": "stream",
     "text": [
      "torch                    2.2.0\n",
      "torchdata                0.7.1\n",
      "torchtext                0.17.0\n",
      "torchvision              0.17.0\n",
      "Note: you may need to restart the kernel to use updated packages.\n"
     ]
    }
   ],
   "source": [
    "pip list | grep torch"
   ]
  },
  {
   "cell_type": "code",
   "execution_count": 17,
   "id": "6833a9fb",
   "metadata": {
    "execution": {
     "iopub.execute_input": "2024-10-20T15:07:22.045448Z",
     "iopub.status.busy": "2024-10-20T15:07:22.044703Z",
     "iopub.status.idle": "2024-10-20T15:07:28.915245Z",
     "shell.execute_reply": "2024-10-20T15:07:28.913980Z"
    },
    "papermill": {
     "duration": 6.88218,
     "end_time": "2024-10-20T15:07:28.916791",
     "exception": true,
     "start_time": "2024-10-20T15:07:22.034611",
     "status": "failed"
    },
    "tags": []
   },
   "outputs": [],
   "source": [
    "import torch\n",
    "import torch.nn as nn\n",
    "\n",
    "import os\n",
    "import pandas as pd\n",
    "import matplotlib.pyplot as plt\n",
    "\n",
    "from PIL import Image\n",
    "from torch.utils.data import Dataset, DataLoader\n",
    "from sklearn.model_selection import train_test_split\n",
    "\n",
    "import torchtext\n",
    "from torchtext.data.utils import get_tokenizer\n",
    "from torchtext.vocab import build_vocab_from_iterator \n",
    "\n",
    "import spacy\n",
    "import timm\n",
    "\n",
    "from torchvision import transforms"
   ]
  },
  {
   "cell_type": "markdown",
   "id": "f56892c8",
   "metadata": {
    "papermill": {
     "duration": null,
     "end_time": null,
     "exception": null,
     "start_time": null,
     "status": "pending"
    },
    "tags": []
   },
   "source": [
    "# Load Dataset"
   ]
  },
  {
   "cell_type": "code",
   "execution_count": 18,
   "id": "98487880",
   "metadata": {
    "execution": {
     "iopub.status.busy": "2024-10-20T15:05:19.874407Z",
     "iopub.status.idle": "2024-10-20T15:05:19.874934Z",
     "shell.execute_reply": "2024-10-20T15:05:19.874698Z",
     "shell.execute_reply.started": "2024-10-20T15:05:19.874657Z"
    },
    "papermill": {
     "duration": null,
     "end_time": null,
     "exception": null,
     "start_time": null,
     "status": "pending"
    },
    "tags": []
   },
   "outputs": [],
   "source": [
    "# Load train data\n",
    "train_data = []\n",
    "train_set_path = '/home/nhatthuong/Documents/ResearchVQA-VQG-firstpaper/VQA/datasets/vqa_coco_dataset/vaq2.0.TrainImages.txt'\n",
    "\n",
    "with open(train_set_path, \"r\") as f:\n",
    "    lines = f.readlines()\n",
    "    for line in lines:\n",
    "        temp = line.split('\\t')\n",
    "        qa = temp[1].split('?')\n",
    "        question = qa[0] + '?'\n",
    "\n",
    "        data_sample = {\n",
    "            'image_path': temp[0][: -2],  # Đường dẫn ảnh\n",
    "            'question': question  # Câu hỏi\n",
    "        }\n",
    "        train_data.append(data_sample)\n",
    "\n",
    "# Tương tự cho val và test data\n",
    "val_data = []\n",
    "val_set_path = '/home/nhatthuong/Documents/ResearchVQA-VQG-firstpaper/VQA/datasets/vqa_coco_dataset/vaq2.0.DevImages.txt'\n",
    "\n",
    "with open(val_set_path, \"r\") as f:\n",
    "    lines = f.readlines()\n",
    "    for line in lines:\n",
    "        temp = line.split('\\t')\n",
    "        qa = temp[1].split('?')\n",
    "        question = qa[0] + '?'\n",
    "\n",
    "        data_sample = {\n",
    "            'image_path': temp[0][: -2],\n",
    "            'question': question\n",
    "        }\n",
    "        val_data.append(data_sample)\n",
    "\n",
    "test_data = []\n",
    "test_set_path = '/home/nhatthuong/Documents/ResearchVQA-VQG-firstpaper/VQA/datasets/vqa_coco_dataset/vaq2.0.TestImages.txt'\n",
    "\n",
    "with open(test_set_path, \"r\") as f:\n",
    "    lines = f.readlines()\n",
    "    for line in lines:\n",
    "        temp = line.split('\\t')\n",
    "        qa = temp[1].split('?')\n",
    "        question = qa[0] + '?'\n",
    "\n",
    "        data_sample = {\n",
    "            'image_path': temp[0][: -2],\n",
    "            'question': question\n",
    "        }\n",
    "        test_data.append(data_sample)"
   ]
  },
  {
   "cell_type": "markdown",
   "id": "659c525d",
   "metadata": {
    "papermill": {
     "duration": null,
     "end_time": null,
     "exception": null,
     "start_time": null,
     "status": "pending"
    },
    "tags": []
   },
   "source": [
    "# Dataset Processing"
   ]
  },
  {
   "cell_type": "code",
   "execution_count": 19,
   "id": "66047140",
   "metadata": {
    "execution": {
     "iopub.status.busy": "2024-10-20T15:05:19.876540Z",
     "iopub.status.idle": "2024-10-20T15:05:19.877033Z",
     "shell.execute_reply": "2024-10-20T15:05:19.876810Z",
     "shell.execute_reply.started": "2024-10-20T15:05:19.876786Z"
    },
    "papermill": {
     "duration": null,
     "end_time": null,
     "exception": null,
     "start_time": null,
     "status": "pending"
    },
    "tags": []
   },
   "outputs": [],
   "source": [
    "eng = spacy.load(\"en_core_web_sm\") # Load the English model to tokenize English text\n",
    "\n",
    "def get_tokens(data_iter):\n",
    "    for sample in data_iter:\n",
    "        question = sample['question']\n",
    "\n",
    "        yield [token.text for token in eng.tokenizer(question)]\n",
    "\n",
    "\n",
    "vocab = build_vocab_from_iterator(\n",
    "    get_tokens(train_data),\n",
    "    min_freq=2,\n",
    "    specials= ['<pad>', '<sos>', '<eos>', '<unk>'],\n",
    "    special_first=True\n",
    ")\n",
    "vocab.set_default_index(vocab['<unk>'])"
   ]
  },
  {
   "cell_type": "markdown",
   "id": "dac99ee4",
   "metadata": {
    "papermill": {
     "duration": null,
     "end_time": null,
     "exception": null,
     "start_time": null,
     "status": "pending"
    },
    "tags": []
   },
   "source": [
    "# Create Pytorch dataset"
   ]
  },
  {
   "cell_type": "code",
   "execution_count": 20,
   "id": "a88557dc",
   "metadata": {
    "execution": {
     "iopub.status.busy": "2024-10-20T15:05:19.878145Z",
     "iopub.status.idle": "2024-10-20T15:05:19.878626Z",
     "shell.execute_reply": "2024-10-20T15:05:19.878403Z",
     "shell.execute_reply.started": "2024-10-20T15:05:19.878378Z"
    },
    "papermill": {
     "duration": null,
     "end_time": null,
     "exception": null,
     "start_time": null,
     "status": "pending"
    },
    "tags": []
   },
   "outputs": [],
   "source": [
    "class VQADataset(Dataset):\n",
    "    def __init__(\n",
    "        self,\n",
    "        data,\n",
    "        classes_to_idx,\n",
    "        max_seq_len=20,\n",
    "        transform=None,\n",
    "        root_dir='/home/nhatthuong/Documents/ResearchVQA-VQG-firstpaper/VQA/datasets/vqa_coco_dataset/val2014-resised'\n",
    "    ):\n",
    "        self.transform = transform\n",
    "        self.data = data\n",
    "        self.max_seq_len = max_seq_len\n",
    "        self.root_dir = root_dir\n",
    "        self.classes_to_idx = classes_to_idx\n",
    "\n",
    "    def __len__(self):\n",
    "        return len(self.data)\n",
    "\n",
    "    def __getitem__(self, index):\n",
    "        img_path = os.path.join(self.root_dir, self.data[index]['image_path'])\n",
    "        img = Image.open(img_path).convert('RGB')\n",
    "        if self.transform:\n",
    "            img = self.transform(img)\n",
    "\n",
    "        question = self.data[index]['question']\n",
    "        question = tokenize(question, self.max_seq_len)\n",
    "        question = torch.tensor(question, dtype=torch.long)\n",
    "\n",
    "        label = self.data[index]['answer']\n",
    "        label = classes_to_idx[label]\n",
    "        label = torch.tensor(label, dtype=torch.long)\n",
    "\n",
    "        return img, question, label"
   ]
  },
  {
   "cell_type": "code",
   "execution_count": 21,
   "id": "e7b58c6c",
   "metadata": {
    "execution": {
     "iopub.status.busy": "2024-10-20T15:05:19.880023Z",
     "iopub.status.idle": "2024-10-20T15:05:19.880505Z",
     "shell.execute_reply": "2024-10-20T15:05:19.880274Z",
     "shell.execute_reply.started": "2024-10-20T15:05:19.880251Z"
    },
    "papermill": {
     "duration": null,
     "end_time": null,
     "exception": null,
     "start_time": null,
     "status": "pending"
    },
    "tags": []
   },
   "outputs": [],
   "source": [
    "transform = transforms.Compose([\n",
    "    transforms.Resize((224, 224)),\n",
    "    transforms.ToTensor(),\n",
    "    transforms.Normalize((0.485, 0.456, 0.406), (0.229, 0.224, 0.225)),\n",
    "])"
   ]
  },
  {
   "cell_type": "code",
   "execution_count": 22,
   "id": "9807231e",
   "metadata": {
    "execution": {
     "iopub.status.busy": "2024-10-20T15:05:19.881800Z",
     "iopub.status.idle": "2024-10-20T15:05:19.882263Z",
     "shell.execute_reply": "2024-10-20T15:05:19.882045Z",
     "shell.execute_reply.started": "2024-10-20T15:05:19.882022Z"
    },
    "papermill": {
     "duration": null,
     "end_time": null,
     "exception": null,
     "start_time": null,
     "status": "pending"
    },
    "tags": []
   },
   "outputs": [
    {
     "ename": "NameError",
     "evalue": "name 'classes_to_idx' is not defined",
     "output_type": "error",
     "traceback": [
      "\u001b[0;31m---------------------------------------------------------------------------\u001b[0m",
      "\u001b[0;31mNameError\u001b[0m                                 Traceback (most recent call last)",
      "Cell \u001b[0;32mIn[22], line 3\u001b[0m\n\u001b[1;32m      1\u001b[0m train_dataset \u001b[38;5;241m=\u001b[39m VQADataset(\n\u001b[1;32m      2\u001b[0m     train_data,\n\u001b[0;32m----> 3\u001b[0m     classes_to_idx\u001b[38;5;241m=\u001b[39m\u001b[43mclasses_to_idx\u001b[49m,\n\u001b[1;32m      4\u001b[0m     transform\u001b[38;5;241m=\u001b[39mtransform\n\u001b[1;32m      5\u001b[0m )\n\u001b[1;32m      6\u001b[0m val_dataset \u001b[38;5;241m=\u001b[39m VQADataset(\n\u001b[1;32m      7\u001b[0m     val_data,\n\u001b[1;32m      8\u001b[0m     classes_to_idx\u001b[38;5;241m=\u001b[39mclasses_to_idx,\n\u001b[1;32m      9\u001b[0m     transform\u001b[38;5;241m=\u001b[39mtransform\n\u001b[1;32m     10\u001b[0m )\n\u001b[1;32m     11\u001b[0m test_dataset \u001b[38;5;241m=\u001b[39m VQADataset(\n\u001b[1;32m     12\u001b[0m     test_data,\n\u001b[1;32m     13\u001b[0m     classes_to_idx\u001b[38;5;241m=\u001b[39mclasses_to_idx,\n\u001b[1;32m     14\u001b[0m     transform\u001b[38;5;241m=\u001b[39mtransform\n\u001b[1;32m     15\u001b[0m )\n",
      "\u001b[0;31mNameError\u001b[0m: name 'classes_to_idx' is not defined"
     ]
    }
   ],
   "source": [
    "train_dataset = VQADataset(\n",
    "    train_data,\n",
    "    classes_to_idx=classes_to_idx,\n",
    "    transform=transform\n",
    ")\n",
    "val_dataset = VQADataset(\n",
    "    val_data,\n",
    "    classes_to_idx=classes_to_idx,\n",
    "    transform=transform\n",
    ")\n",
    "test_dataset = VQADataset(\n",
    "    test_data,\n",
    "    classes_to_idx=classes_to_idx,\n",
    "    transform=transform\n",
    ")"
   ]
  },
  {
   "cell_type": "code",
   "execution_count": null,
   "id": "da559ac5",
   "metadata": {
    "execution": {
     "iopub.status.busy": "2024-10-20T15:05:19.883659Z",
     "iopub.status.idle": "2024-10-20T15:05:19.884021Z",
     "shell.execute_reply": "2024-10-20T15:05:19.883872Z",
     "shell.execute_reply.started": "2024-10-20T15:05:19.883854Z"
    },
    "papermill": {
     "duration": null,
     "end_time": null,
     "exception": null,
     "start_time": null,
     "status": "pending"
    },
    "tags": []
   },
   "outputs": [],
   "source": [
    "train_batch_size = 128\n",
    "test_batch_size = 32\n",
    "\n",
    "train_loader = DataLoader(\n",
    "    train_dataset,\n",
    "    batch_size=train_batch_size,\n",
    "    shuffle=True\n",
    ")\n",
    "val_loader = DataLoader(\n",
    "    val_dataset,\n",
    "    batch_size=test_batch_size,\n",
    "    shuffle=False\n",
    ")\n",
    "test_loader = DataLoader(\n",
    "    test_dataset,\n",
    "    batch_size=test_batch_size,\n",
    "    shuffle=False\n",
    ")"
   ]
  },
  {
   "cell_type": "markdown",
   "id": "2b89a1f8",
   "metadata": {
    "papermill": {
     "duration": null,
     "end_time": null,
     "exception": null,
     "start_time": null,
     "status": "pending"
    },
    "tags": []
   },
   "source": [
    "# Create Model ResNet50 + BiLSTM"
   ]
  },
  {
   "cell_type": "code",
   "execution_count": null,
   "id": "05343751",
   "metadata": {
    "execution": {
     "iopub.status.busy": "2024-10-20T15:05:19.885310Z",
     "iopub.status.idle": "2024-10-20T15:05:19.885687Z",
     "shell.execute_reply": "2024-10-20T15:05:19.885507Z",
     "shell.execute_reply.started": "2024-10-20T15:05:19.885489Z"
    },
    "papermill": {
     "duration": null,
     "end_time": null,
     "exception": null,
     "start_time": null,
     "status": "pending"
    },
    "tags": []
   },
   "outputs": [],
   "source": [
    "class VQAModel(nn.Module):\n",
    "    def __init__(\n",
    "        self,\n",
    "        n_classes,\n",
    "        img_model_name='resnet50',\n",
    "        embeddding_dim=300,\n",
    "        n_layers=1,\n",
    "        hidden_size=128,\n",
    "        dropout_prob=0.2\n",
    "    ):\n",
    "        super(VQAModel, self).__init__()\n",
    "        self.image_encoder = timm.create_model(\n",
    "            img_model_name,\n",
    "            pretrained=True,\n",
    "            num_classes=hidden_size\n",
    "        )\n",
    "\n",
    "        self.embedding = nn.Embedding(len(vocab), embeddding_dim)\n",
    "        self.lstm1 = nn.LSTM(\n",
    "            input_size=embeddding_dim,\n",
    "            hidden_size=hidden_size,\n",
    "            num_layers=n_layers,\n",
    "            batch_first=True,\n",
    "            bidirectional=True\n",
    "        )\n",
    "        self.lstm2 = nn.LSTM(\n",
    "            input_size=hidden_size*3,\n",
    "            hidden_size=hidden_size,\n",
    "            num_layers=n_layers,\n",
    "            batch_first=True,\n",
    "            bidirectional=True\n",
    "        )\n",
    "        self.dropout = nn.Dropout(dropout_prob)\n",
    "        self.fc = nn.Linear(hidden_size * 2, n_classes)\n",
    "\n",
    "    def forward(self, img, text):\n",
    "        img_features = self.image_encoder(img)\n",
    "\n",
    "        text_emb = self.embedding(text)\n",
    "        lstm_out, _ = self.lstm1(text_emb)\n",
    "\n",
    "        lstm_out = lstm_out[:, -1, :]\n",
    "\n",
    "        combined = torch.cat((img_features, lstm_out), dim=1)\n",
    "        x, _ = self.lstm2(combined)\n",
    "        x = self.dropout(x)\n",
    "        x = self.fc(x)\n",
    "\n",
    "        return x"
   ]
  },
  {
   "cell_type": "code",
   "execution_count": null,
   "id": "7eece5d8",
   "metadata": {
    "execution": {
     "iopub.status.busy": "2024-10-20T15:05:19.887137Z",
     "iopub.status.idle": "2024-10-20T15:05:19.887612Z",
     "shell.execute_reply": "2024-10-20T15:05:19.887388Z",
     "shell.execute_reply.started": "2024-10-20T15:05:19.887361Z"
    },
    "papermill": {
     "duration": null,
     "end_time": null,
     "exception": null,
     "start_time": null,
     "status": "pending"
    },
    "tags": []
   },
   "outputs": [],
   "source": [
    "n_classes = len(classes)\n",
    "img_model_name = 'resnet50'\n",
    "hidden_size = 128\n",
    "n_layers = 1\n",
    "embeddding_dim = 64\n",
    "dropout_prob = 0.2\n",
    "device = 'cuda' if torch.cuda.is_available() else 'cpu'\n",
    "\n",
    "model = VQAModel(\n",
    "    n_classes=n_classes,\n",
    "    img_model_name=img_model_name,\n",
    "    embeddding_dim=embeddding_dim,\n",
    "    n_layers=n_layers,\n",
    "    hidden_size=hidden_size,\n",
    "    dropout_prob=dropout_prob\n",
    ").to(device)"
   ]
  },
  {
   "cell_type": "code",
   "execution_count": null,
   "id": "912d6ac4",
   "metadata": {
    "execution": {
     "iopub.status.busy": "2024-10-20T15:05:19.888948Z",
     "iopub.status.idle": "2024-10-20T15:05:19.889429Z",
     "shell.execute_reply": "2024-10-20T15:05:19.889210Z",
     "shell.execute_reply.started": "2024-10-20T15:05:19.889185Z"
    },
    "papermill": {
     "duration": null,
     "end_time": null,
     "exception": null,
     "start_time": null,
     "status": "pending"
    },
    "tags": []
   },
   "outputs": [],
   "source": [
    "images, questions, labels = next(iter(train_loader))\n",
    "\n",
    "model.eval()\n",
    "with torch.no_grad():\n",
    "    images = images.to(device)\n",
    "    questions = questions.to(device)\n",
    "    output = model(images, questions)\n",
    "    print(output.shape)"
   ]
  },
  {
   "cell_type": "markdown",
   "id": "2abb6b6c",
   "metadata": {
    "papermill": {
     "duration": null,
     "end_time": null,
     "exception": null,
     "start_time": null,
     "status": "pending"
    },
    "tags": []
   },
   "source": [
    "# Training "
   ]
  },
  {
   "cell_type": "code",
   "execution_count": null,
   "id": "12c88239",
   "metadata": {
    "execution": {
     "iopub.status.busy": "2024-10-20T15:05:19.890466Z",
     "iopub.status.idle": "2024-10-20T15:05:19.890970Z",
     "shell.execute_reply": "2024-10-20T15:05:19.890749Z",
     "shell.execute_reply.started": "2024-10-20T15:05:19.890721Z"
    },
    "papermill": {
     "duration": null,
     "end_time": null,
     "exception": null,
     "start_time": null,
     "status": "pending"
    },
    "tags": []
   },
   "outputs": [],
   "source": [
    "def evaluate(model, dataloader, criterion, device):\n",
    "    model.eval()\n",
    "    correct = 0\n",
    "    total = 0\n",
    "    losses = []\n",
    "    with torch.no_grad():\n",
    "        for image, question, labels in dataloader:\n",
    "            image, question, labels = image.to(device), question.to(device), labels.to(device)\n",
    "            outputs = model(image, question)\n",
    "            loss = criterion(outputs, labels)\n",
    "            losses.append(loss.item())\n",
    "            _, predicted = torch.max(outputs.data, 1)\n",
    "            total += labels.size(0)\n",
    "            correct += (predicted == labels).sum().item()\n",
    "\n",
    "    loss = sum(losses) / len(losses)\n",
    "    acc = correct / total\n",
    "\n",
    "    return loss, acc"
   ]
  },
  {
   "cell_type": "code",
   "execution_count": null,
   "id": "7ed81a78",
   "metadata": {
    "execution": {
     "iopub.status.busy": "2024-10-20T15:05:19.892350Z",
     "iopub.status.idle": "2024-10-20T15:05:19.892705Z",
     "shell.execute_reply": "2024-10-20T15:05:19.892529Z",
     "shell.execute_reply.started": "2024-10-20T15:05:19.892513Z"
    },
    "papermill": {
     "duration": null,
     "end_time": null,
     "exception": null,
     "start_time": null,
     "status": "pending"
    },
    "tags": []
   },
   "outputs": [],
   "source": [
    "def fit(\n",
    "    model,\n",
    "    train_loader,\n",
    "    val_loader,\n",
    "    criterion,\n",
    "    optimizer,\n",
    "    scheduler,\n",
    "    device,\n",
    "    epochs\n",
    "):\n",
    "    train_losses = []\n",
    "    val_losses = []\n",
    "\n",
    "    for epoch in range(epochs):\n",
    "        batch_train_losses = []\n",
    "\n",
    "        model.train()\n",
    "        for idx, (images, questions, labels) in enumerate(train_loader):\n",
    "            images = images.to(device)\n",
    "            questions = questions.to(device)\n",
    "            labels = labels.to(device)\n",
    "\n",
    "            optimizer.zero_grad()\n",
    "            outputs = model(images, questions)\n",
    "\n",
    "            loss = criterion(outputs, labels)\n",
    "            loss.backward()\n",
    "            optimizer.step()\n",
    "\n",
    "            batch_train_losses.append(loss.item())\n",
    "\n",
    "        train_loss = sum(batch_train_losses) / len(batch_train_losses)\n",
    "        train_losses.append(train_loss)\n",
    "\n",
    "        val_loss, val_acc = evaluate(\n",
    "            model, val_loader,\n",
    "            criterion, device\n",
    "        )\n",
    "        val_losses.append(val_loss)\n",
    "\n",
    "        print(f'EPOCH {epoch + 1}:\\tTrain loss: {train_loss:.4f}\\tVal loss: {val_loss:.4f}\\tVal Acc: {val_acc}')\n",
    "\n",
    "        scheduler.step()\n",
    "\n",
    "    return train_losses, val_losses"
   ]
  },
  {
   "cell_type": "code",
   "execution_count": null,
   "id": "4df1be5c",
   "metadata": {
    "execution": {
     "iopub.status.busy": "2024-10-20T15:05:19.894238Z",
     "iopub.status.idle": "2024-10-20T15:05:19.894730Z",
     "shell.execute_reply": "2024-10-20T15:05:19.894489Z",
     "shell.execute_reply.started": "2024-10-20T15:05:19.894464Z"
    },
    "papermill": {
     "duration": null,
     "end_time": null,
     "exception": null,
     "start_time": null,
     "status": "pending"
    },
    "tags": []
   },
   "outputs": [],
   "source": [
    "lr = 1e-2\n",
    "epochs = 50\n",
    "\n",
    "scheduler_step_size = epochs * 0.6\n",
    "criterion = nn.CrossEntropyLoss()\n",
    "\n",
    "optimizer = torch.optim.Adam(\n",
    "    model.parameters(),\n",
    "    lr=lr\n",
    ")\n",
    "scheduler = torch.optim.lr_scheduler.StepLR(\n",
    "    optimizer,\n",
    "    step_size=scheduler_step_size,\n",
    "    gamma=0.1\n",
    ")"
   ]
  },
  {
   "cell_type": "code",
   "execution_count": null,
   "id": "6f535954",
   "metadata": {
    "execution": {
     "iopub.status.busy": "2024-10-20T15:05:19.897025Z",
     "iopub.status.idle": "2024-10-20T15:05:19.897371Z",
     "shell.execute_reply": "2024-10-20T15:05:19.897219Z",
     "shell.execute_reply.started": "2024-10-20T15:05:19.897201Z"
    },
    "papermill": {
     "duration": null,
     "end_time": null,
     "exception": null,
     "start_time": null,
     "status": "pending"
    },
    "tags": []
   },
   "outputs": [],
   "source": [
    "train_losses, val_losses = fit(\n",
    "    model,\n",
    "    train_loader,\n",
    "    val_loader,\n",
    "    criterion,\n",
    "    optimizer,\n",
    "    scheduler,\n",
    "    device,\n",
    "    epochs\n",
    ")"
   ]
  },
  {
   "cell_type": "code",
   "execution_count": null,
   "id": "3bd37d77",
   "metadata": {
    "execution": {
     "iopub.status.busy": "2024-10-20T15:05:19.898901Z",
     "iopub.status.idle": "2024-10-20T15:05:19.899239Z",
     "shell.execute_reply": "2024-10-20T15:05:19.899087Z",
     "shell.execute_reply.started": "2024-10-20T15:05:19.899070Z"
    },
    "papermill": {
     "duration": null,
     "end_time": null,
     "exception": null,
     "start_time": null,
     "status": "pending"
    },
    "tags": []
   },
   "outputs": [],
   "source": [
    "fig, ax = plt.subplots(1, 2, figsize=(12, 5))\n",
    "ax[0].plot(train_losses)\n",
    "ax[0].set_title('Training Loss')\n",
    "ax[0].set_xlabel('Epoch')\n",
    "ax[0].set_ylabel('Loss')\n",
    "ax[1].plot(val_losses, color='orange')\n",
    "ax[1].set_title('Val Loss')\n",
    "ax[1].set_xlabel('Epoch')\n",
    "ax[1].set_ylabel('Loss')\n",
    "plt.show()"
   ]
  },
  {
   "cell_type": "markdown",
   "id": "fc3a16de",
   "metadata": {
    "papermill": {
     "duration": null,
     "end_time": null,
     "exception": null,
     "start_time": null,
     "status": "pending"
    },
    "tags": []
   },
   "source": [
    "# Evaluation"
   ]
  },
  {
   "cell_type": "code",
   "execution_count": null,
   "id": "d9962216",
   "metadata": {
    "papermill": {
     "duration": null,
     "end_time": null,
     "exception": null,
     "start_time": null,
     "status": "pending"
    },
    "tags": []
   },
   "outputs": [],
   "source": []
  }
 ],
 "metadata": {
  "kaggle": {
   "accelerator": "nvidiaTeslaT4",
   "dataSources": [
    {
     "datasetId": 2264789,
     "sourceId": 3798293,
     "sourceType": "datasetVersion"
    },
    {
     "datasetId": 5910170,
     "sourceId": 9671427,
     "sourceType": "datasetVersion"
    }
   ],
   "dockerImageVersionId": 30786,
   "isGpuEnabled": true,
   "isInternetEnabled": true,
   "language": "python",
   "sourceType": "notebook"
  },
  "kernelspec": {
   "display_name": "env_vqa",
   "language": "python",
   "name": "python3"
  },
  "language_info": {
   "codemirror_mode": {
    "name": "ipython",
    "version": 3
   },
   "file_extension": ".py",
   "mimetype": "text/x-python",
   "name": "python",
   "nbconvert_exporter": "python",
   "pygments_lexer": "ipython3",
   "version": "3.10.15"
  },
  "papermill": {
   "default_parameters": {},
   "duration": 28.785488,
   "end_time": "2024-10-20T15:07:30.447295",
   "environment_variables": {},
   "exception": true,
   "input_path": "__notebook__.ipynb",
   "output_path": "__notebook__.ipynb",
   "parameters": {},
   "start_time": "2024-10-20T15:07:01.661807",
   "version": "2.6.0"
  }
 },
 "nbformat": 4,
 "nbformat_minor": 5
}
