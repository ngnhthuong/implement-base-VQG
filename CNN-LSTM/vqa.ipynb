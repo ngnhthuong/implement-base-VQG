{
 "cells": [
  {
   "cell_type": "code",
   "execution_count": 16,
   "metadata": {},
   "outputs": [],
   "source": [
    "import os \n",
    "import numpy as np\n",
    "import pandas as pd\n",
    "import spacy\n",
    "\n",
    "import timm\n",
    "import matplotlib.pyplot as plt\n",
    "\n",
    "from PIL import Image\n",
    "from torch.utils.data import Dataset, DataLoader\n",
    "from sklearn.model_selection import train_test_split\n",
    "from torchtext.data.utils import get_tokenizer\n",
    "from torchtext.vocab import build_vocab_from_iterator\n",
    "from torchvision import transforms  "
   ]
  },
  {
   "cell_type": "code",
   "execution_count": 17,
   "metadata": {},
   "outputs": [],
   "source": [
    "val_data = []\n",
    "val_set_path = '/home/nhatthuong/Documents/ResearchVQA-VQG-firstpaper/VQA/datasets/vqa_coco_dataset/vaq2.0.DevImages.txt'\n",
    "\n",
    "with open(val_set_path, 'r') as f:\n",
    "    lines = f.readlines()\n",
    "    for line in lines:\n",
    "        temp = line.split('\\t')\n",
    "        qa = temp[1].split('?')\n",
    "        \n",
    "        if len(qa) == 3:\n",
    "            answer = qa[2]\n",
    "        else: \n",
    "            answer = qa[1]\n",
    "        data_sample = {\n",
    "            'image_path': temp[0][:-2],\n",
    "            'question': qa[0]+'?',\n",
    "            'answer': answer\n",
    "        }\n",
    "        val_data.append(data_sample)\n",
    "    "
   ]
  },
  {
   "cell_type": "code",
   "execution_count": 18,
   "metadata": {},
   "outputs": [],
   "source": [
    "train_data = []\n",
    "train_set_path = '/home/nhatthuong/Documents/ResearchVQA-VQG-firstpaper/VQA/datasets/vqa_coco_dataset/vaq2.0.TrainImages.txt'\n",
    "\n",
    "with open(train_set_path, 'r') as f:\n",
    "    lines = f.readlines()\n",
    "    for line in lines:\n",
    "        temp = line.split('\\t')\n",
    "        qa = temp[1].split('?')\n",
    "        \n",
    "        if len(qa) == 3:\n",
    "            answer = qa[2]\n",
    "        else: \n",
    "            answer = qa[1]\n",
    "            \n",
    "        data_sample = {\n",
    "            'image_path': temp[0][:-2],\n",
    "            'question': qa[0]+'?',\n",
    "            'answer': answer\n",
    "        }\n",
    "        train_data.append(data_sample)\n",
    "    "
   ]
  },
  {
   "cell_type": "code",
   "execution_count": 19,
   "metadata": {},
   "outputs": [],
   "source": [
    "test_data = []\n",
    "test_set_path = '/home/nhatthuong/Documents/ResearchVQA-VQG-firstpaper/VQA/datasets/vqa_coco_dataset/vaq2.0.TestImages.txt'\n",
    "\n",
    "with open(test_set_path, 'r') as f:\n",
    "    lines = f.readlines()\n",
    "    for line in lines:\n",
    "        temp = line.split('\\t')\n",
    "        qa = temp[1].split('?')\n",
    "        \n",
    "        if len(qa) == 3:\n",
    "            answer = qa[2]\n",
    "        else: \n",
    "            answer = qa[1]\n",
    "            \n",
    "        data_sample = {\n",
    "            'image_path': temp[0][:-2],\n",
    "            'question': qa[0]+'?',\n",
    "            'answer': answer\n",
    "        }\n",
    "        test_data.append(data_sample)\n",
    "    "
   ]
  },
  {
   "cell_type": "code",
   "execution_count": 20,
   "metadata": {},
   "outputs": [],
   "source": [
    "eng=spacy.load(\"en_core_web_sm\")"
   ]
  },
  {
   "cell_type": "code",
   "execution_count": 21,
   "metadata": {},
   "outputs": [],
   "source": [
    "def get_tokens(data_iter):\n",
    "    for sample in data_iter:\n",
    "        question = sample['question']\n",
    "        yield [token.text for token in eng.tokenizer(question)]\n",
    "\n",
    "vocab = build_vocab_from_iterator(\n",
    "    get_tokens(train_data),\n",
    "    min_freq=2,\n",
    "    specials=['<pad>', '<sos>', '<eos>', '<unk>'],\n",
    "    special_first=True\n",
    ")\n",
    "vocab.set_default_index(vocab['<unk>'])\n"
   ]
  },
  {
   "cell_type": "code",
   "execution_count": 22,
   "metadata": {},
   "outputs": [],
   "source": [
    "classes = set([sample['answer'] for sample in train_data])\n",
    "classes_to_idx = {\n",
    "    cls_name: idx for idx, cls_name in enumerate(classes)\n",
    "}\n",
    "\n",
    "idx_to_classes = {\n",
    "    idx: cls_name for idx, cls_name in enumerate(classes)\n",
    "}\n"
   ]
  },
  {
   "cell_type": "code",
   "execution_count": 23,
   "metadata": {},
   "outputs": [],
   "source": [
    "def tokenize(question, max_sequence_length):\n",
    "    tokens = [token.text for token in eng.tokenizer(question)]\n",
    "    sequence = [vocab[token] for token in tokens]\n",
    "    \n",
    "    if len(sequence) < max_sequence_length:\n",
    "        sequence += [vocab['<pad>']] * (max_sequence_length - len(sequence))\n",
    "    else:\n",
    "        sequence = sequence[:max_sequence_length]\n",
    "    \n",
    "    return sequence\n"
   ]
  },
  {
   "cell_type": "code",
   "execution_count": 24,
   "metadata": {},
   "outputs": [],
   "source": [
    "class VQADataset(Dataset):\n",
    "    def __init__(\n",
    "        self,\n",
    "        data,\n",
    "        classes_to_idx,\n",
    "        max_seq_len=30,\n",
    "        transform=None,\n",
    "        root_dir='/home/nhatthuong/Documents/ResearchVQA-VQG-firstpaper/VQA/datasets/vqa_coco_dataset/val2014-resised'\n",
    "    ):\n",
    "        self.transform = transform\n",
    "        self.data = data\n",
    "        self.max_seq_len = max_seq_len\n",
    "        self.root_dir = root_dir\n",
    "        self.classes_to_idx = classes_to_idx\n",
    "\n",
    "    def __len__(self):\n",
    "        return len(self.data)\n",
    "\n",
    "    def __getitem__(self, index):\n",
    "        img_path = os.path.join(self.root_dir, self.data[index]['image_path'])\n",
    "        img = Image.open(img_path).convert('RGB')\n",
    "        \n",
    "        if self.transform:\n",
    "            img = self.transform(img)\n",
    "\n",
    "        question = self.data[index]['question']\n",
    "        question = tokenize(question, self.max_seq_len)\n",
    "        question = torch.tensor(question, dtype=torch.long)\n",
    "\n",
    "        label = self.data[index]['answer']\n",
    "        label = self.classes_to_idx[label]\n",
    "        label = torch.tensor(label, dtype=torch.long)\n",
    "\n",
    "        return img, question, label"
   ]
  },
  {
   "cell_type": "code",
   "execution_count": 25,
   "metadata": {},
   "outputs": [],
   "source": [
    "from torchvision import transforms\n",
    "\n",
    "transform = transforms.Compose([\n",
    "    transforms.Resize((224, 224)),  # Resizes the image to 224x224 pixels\n",
    "    transforms.ToTensor(),  # Converts the image to a PyTorch tensor and scales pixel values to [0, 1]\n",
    "    transforms.Normalize((0.485, 0.456, 0.406), (0.229, 0.224, 0.225))  # Normalizes with mean and std for each channel\n",
    "])\n"
   ]
  },
  {
   "cell_type": "code",
   "execution_count": 26,
   "metadata": {},
   "outputs": [],
   "source": [
    "# Assuming train_data and val_data are defined and contain the appropriate data\n",
    "train_dataset = VQADataset(\n",
    "    train_data,\n",
    "    classes_to_idx=classes_to_idx,\n",
    "    transform=transform\n",
    ")\n",
    "\n",
    "val_dataset = VQADataset(\n",
    "    val_data,\n",
    "    classes_to_idx=classes_to_idx,\n",
    "    transform=transform\n",
    ")\n"
   ]
  },
  {
   "cell_type": "code",
   "execution_count": 27,
   "metadata": {},
   "outputs": [],
   "source": [
    "test_dataset = VQADataset (\n",
    "    test_data,\n",
    "    classes_to_idx = classes_to_idx,\n",
    "    transform = transform\n",
    ")"
   ]
  },
  {
   "cell_type": "code",
   "execution_count": 28,
   "metadata": {},
   "outputs": [],
   "source": [
    "from torch.utils.data import DataLoader\n",
    "\n",
    "# Define batch sizes for training and testing/validation\n",
    "train_batch_size = 128\n",
    "test_batch_size = 32\n",
    "\n",
    "# Create a DataLoader for the training dataset\n",
    "train_loader = DataLoader(\n",
    "    train_dataset,\n",
    "    batch_size=train_batch_size,\n",
    "    shuffle=True  # Shuffle the data at every epoch\n",
    ")\n",
    "\n",
    "# Create a DataLoader for the validation dataset\n",
    "val_loader = DataLoader(\n",
    "    val_dataset,\n",
    "    batch_size=test_batch_size,\n",
    "    shuffle=False  # No need to shuffle validation data\n",
    ")\n",
    "\n",
    "# Create a DataLoader for the test dataset\n",
    "test_loader = DataLoader(\n",
    "    test_dataset,\n",
    "    batch_size=test_batch_size,\n",
    "    shuffle=False  # No need to shuffle test data\n",
    ")\n"
   ]
  },
  {
   "cell_type": "code",
   "execution_count": 29,
   "metadata": {},
   "outputs": [],
   "source": [
    "import torch\n",
    "import torch.nn as nn\n",
    "import timm\n",
    "\n",
    "class VQAModel(nn.Module):\n",
    "    def __init__(\n",
    "        self,\n",
    "        n_classes,\n",
    "        img_model_name='resnet50',\n",
    "        embeddding_dim=300,\n",
    "        n_layers=2,\n",
    "        hidden_size=128,\n",
    "        dropout_prob=0.2\n",
    "    ):\n",
    "        super(VQAModel, self).__init__()\n",
    "        \n",
    "        # Image encoder using a pre-trained model from timm\n",
    "        self.image_encoder = timm.create_model(\n",
    "            img_model_name,\n",
    "            pretrained=True,\n",
    "            num_classes=hidden_size\n",
    "        )\n",
    "        \n",
    "        # Text embedding layer\n",
    "        self.embedding = nn.Embedding(len(vocab), embeddding_dim)\n",
    "        \n",
    "        # LSTM layer for text processing\n",
    "        self.lstm = nn.LSTM(\n",
    "            input_size=embeddding_dim,\n",
    "            hidden_size=hidden_size,\n",
    "            num_layers=n_layers,\n",
    "            batch_first=True,\n",
    "            bidirectional=True\n",
    "        )\n",
    "        \n",
    "        # Layer normalization\n",
    "        self.layernorm = nn.LayerNorm(hidden_size * 2)\n",
    "        \n",
    "        # Fully connected layers\n",
    "        self.fc1 = nn.Linear(hidden_size * 3, 256)\n",
    "        self.relu = nn.ReLU()\n",
    "        self.dropout = nn.Dropout(dropout_prob)\n",
    "        self.fc2 = nn.Linear(256, n_classes)\n",
    "    \n",
    "    def forward(self, img, text):\n",
    "        # Process image through image encoder\n",
    "        img_features = self.image_encoder(img)\n",
    "        \n",
    "        # Embed text and process through LSTM\n",
    "        text_emb = self.embedding(text)\n",
    "        lstm_out, _ = self.lstm(text_emb)\n",
    "        \n",
    "        # Take the last output of the LSTM\n",
    "        lstm_out = lstm_out[:, -1, :]\n",
    "        lstm_out = self.layernorm(lstm_out)\n",
    "        \n",
    "        # Concatenate image and text features\n",
    "        combined = torch.cat((img_features, lstm_out), dim=1)\n",
    "        \n",
    "        # Pass through fully connected layers\n",
    "        x = self.fc1(combined)\n",
    "        x = self.relu(x)\n",
    "        x = self.dropout(x)\n",
    "        x = self.fc2(x)\n",
    "        \n",
    "        return x\n"
   ]
  },
  {
   "cell_type": "code",
   "execution_count": 30,
   "metadata": {},
   "outputs": [],
   "source": [
    "# Định nghĩa các tham số\n",
    "n_classes = len(classes)  # Số lượng lớp đầu ra, được xác định từ danh sách các lớp\n",
    "img_model_name = 'resnet50'  # Tên mô hình ảnh\n",
    "hidden_size = 128  # Kích thước ẩn cho LSTM và bộ mã hóa ảnh\n",
    "n_layers = 1  # Số lớp LSTM\n",
    "embeddding_dim = 128  # Kích thước của embedding cho văn bản\n",
    "dropout_prob = 0.2  # Xác suất dropout\n",
    "device = 'cuda' if torch.cuda.is_available() else 'cpu'  # Chọn thiết bị\n",
    "\n",
    "# Khởi tạo mô hình VQAModel\n",
    "model = VQAModel(\n",
    "    n_classes=n_classes,\n",
    "    img_model_name=img_model_name,\n",
    "    embeddding_dim=embeddding_dim,\n",
    "    n_layers=n_layers,\n",
    "    hidden_size=hidden_size,\n",
    "    dropout_prob=dropout_prob\n",
    ").to(device)  # Chuyển mô hình sang thiết bị (GPU hoặc CPU)"
   ]
  },
  {
   "cell_type": "code",
   "execution_count": 31,
   "metadata": {},
   "outputs": [],
   "source": [
    "def evaluate(model, dataloader, criterion, device):\n",
    "    model.eval()\n",
    "    correct = 0\n",
    "    total = 0\n",
    "    losses = []\n",
    "    with torch.no_grad():\n",
    "        for image, question, labels in dataloader:\n",
    "            image, question, labels = image.to(device), question.to(device), labels.to(device)\n",
    "            outputs = model(image, question)\n",
    "            loss = criterion(outputs, labels)\n",
    "            losses.append(loss.item())\n",
    "            _, predicted = torch.max(outputs.data, 1)\n",
    "            total += labels.size(0)\n",
    "            correct += (predicted == labels).sum().item()\n",
    "    \n",
    "    loss = sum(losses) / len(losses)\n",
    "    acc = correct / total\n",
    "    return loss, acc\n",
    "def fit(\n",
    "    model,\n",
    "    train_loader,\n",
    "    val_loader,\n",
    "    criterion,\n",
    "    optimizer,\n",
    "    scheduler,\n",
    "    device,\n",
    "    epochs\n",
    "):\n",
    "    train_losses = []\n",
    "    val_losses = []\n",
    "    \n",
    "    for epoch in range(epochs):\n",
    "        batch_train_losses = []\n",
    "        model.train()\n",
    "        for idx, (images, questions, labels) in enumerate(train_loader):\n",
    "            images = images.to(device)\n",
    "            questions = questions.to(device)\n",
    "            labels = labels.to(device)\n",
    "            \n",
    "            optimizer.zero_grad()\n",
    "            outputs = model(images, questions)\n",
    "            loss = criterion(outputs, labels)\n",
    "            loss.backward()\n",
    "            optimizer.step()\n",
    "            \n",
    "            batch_train_losses.append(loss.item())\n",
    "        \n",
    "        train_loss = sum(batch_train_losses) / len(batch_train_losses)\n",
    "        train_losses.append(train_loss)\n",
    "        \n",
    "        val_loss, val_acc = evaluate(model, val_loader, criterion, device)\n",
    "        val_losses.append(val_loss)\n",
    "        \n",
    "        print(f'EPOCH {epoch + 1}:\\tTrain loss: {train_loss:.4f}\\tVal loss: {val_loss:.4f}\\tVal Acc: {val_acc:.4f}')\n",
    "        \n",
    "        scheduler.step()\n",
    "    \n",
    "    return train_losses, val_losses\n"
   ]
  },
  {
   "cell_type": "code",
   "execution_count": 32,
   "metadata": {},
   "outputs": [],
   "source": [
    "# Định nghĩa các tham số huấn luyện\n",
    "lr = 0.001  # Tốc độ học\n",
    "epochs = 50  # Số lượng epoch\n",
    "weight_decay = 1e-5  # Hệ số weight decay để ngăn overfitting\n",
    "scheduler_step_size = int(epochs * 0.6)  # Bước thay đổi tốc độ học\n",
    "\n",
    "# Định nghĩa hàm mất mát\n",
    "criterion = nn.CrossEntropyLoss()\n",
    "\n",
    "# Khởi tạo optimizer Adam\n",
    "optimizer = torch.optim.Adam(\n",
    "    model.parameters(),\n",
    "    lr=lr,\n",
    "    weight_decay=weight_decay\n",
    ")\n",
    "\n",
    "# Khởi tạo scheduler để điều chỉnh tốc độ học\n",
    "scheduler = torch.optim.lr_scheduler.StepLR(\n",
    "    optimizer,\n",
    "    step_size=scheduler_step_size,\n",
    "    gamma=0.1  # Hệ số giảm tốc độ học\n",
    ")"
   ]
  },
  {
   "cell_type": "code",
   "execution_count": 33,
   "metadata": {},
   "outputs": [
    {
     "name": "stdout",
     "output_type": "stream",
     "text": [
      "EPOCH 1:\tTrain loss: 0.7051\tVal loss: 0.6912\tVal Acc: 0.5343\n",
      "EPOCH 2:\tTrain loss: 0.6894\tVal loss: 0.6849\tVal Acc: 0.5753\n",
      "EPOCH 3:\tTrain loss: 0.6692\tVal loss: 0.6785\tVal Acc: 0.5758\n",
      "EPOCH 4:\tTrain loss: 0.6184\tVal loss: 0.6538\tVal Acc: 0.6173\n",
      "EPOCH 5:\tTrain loss: 0.5232\tVal loss: 0.7269\tVal Acc: 0.6322\n",
      "EPOCH 6:\tTrain loss: 0.4143\tVal loss: 0.7749\tVal Acc: 0.6358\n",
      "EPOCH 7:\tTrain loss: 0.3235\tVal loss: 0.8210\tVal Acc: 0.6716\n",
      "EPOCH 8:\tTrain loss: 0.2786\tVal loss: 0.9151\tVal Acc: 0.6598\n",
      "EPOCH 9:\tTrain loss: 0.2302\tVal loss: 0.8480\tVal Acc: 0.6911\n",
      "EPOCH 10:\tTrain loss: 0.2138\tVal loss: 0.8800\tVal Acc: 0.6573\n",
      "EPOCH 11:\tTrain loss: 0.2307\tVal loss: 1.0790\tVal Acc: 0.6644\n",
      "EPOCH 12:\tTrain loss: 0.2126\tVal loss: 0.9256\tVal Acc: 0.6844\n",
      "EPOCH 13:\tTrain loss: 0.1980\tVal loss: 0.9998\tVal Acc: 0.6634\n",
      "EPOCH 14:\tTrain loss: 0.1661\tVal loss: 1.1096\tVal Acc: 0.6957\n",
      "EPOCH 15:\tTrain loss: 0.1725\tVal loss: 1.2029\tVal Acc: 0.6814\n",
      "EPOCH 16:\tTrain loss: 0.1578\tVal loss: 0.7997\tVal Acc: 0.6788\n",
      "EPOCH 17:\tTrain loss: 0.1456\tVal loss: 1.2501\tVal Acc: 0.6901\n",
      "EPOCH 18:\tTrain loss: 0.1510\tVal loss: 1.2494\tVal Acc: 0.6655\n",
      "EPOCH 19:\tTrain loss: 0.1487\tVal loss: 1.1011\tVal Acc: 0.6967\n",
      "EPOCH 20:\tTrain loss: 0.1386\tVal loss: 1.2585\tVal Acc: 0.6711\n",
      "EPOCH 21:\tTrain loss: 0.1612\tVal loss: 1.0733\tVal Acc: 0.6855\n",
      "EPOCH 22:\tTrain loss: 0.1407\tVal loss: 1.2993\tVal Acc: 0.6814\n",
      "EPOCH 23:\tTrain loss: 0.1405\tVal loss: 1.0849\tVal Acc: 0.6957\n",
      "EPOCH 24:\tTrain loss: 0.1356\tVal loss: 1.3679\tVal Acc: 0.6773\n",
      "EPOCH 25:\tTrain loss: 0.1742\tVal loss: 1.2059\tVal Acc: 0.6916\n",
      "EPOCH 26:\tTrain loss: 0.1417\tVal loss: 1.0707\tVal Acc: 0.6865\n",
      "EPOCH 27:\tTrain loss: 0.1239\tVal loss: 1.3682\tVal Acc: 0.6834\n",
      "EPOCH 28:\tTrain loss: 0.1336\tVal loss: 1.1181\tVal Acc: 0.6819\n",
      "EPOCH 29:\tTrain loss: 0.1495\tVal loss: 1.3120\tVal Acc: 0.6767\n",
      "EPOCH 30:\tTrain loss: 0.1326\tVal loss: 1.1466\tVal Acc: 0.6680\n",
      "EPOCH 31:\tTrain loss: 0.1201\tVal loss: 1.2577\tVal Acc: 0.6844\n",
      "EPOCH 32:\tTrain loss: 0.1033\tVal loss: 1.4069\tVal Acc: 0.6865\n",
      "EPOCH 33:\tTrain loss: 0.1003\tVal loss: 1.4602\tVal Acc: 0.6860\n",
      "EPOCH 34:\tTrain loss: 0.0989\tVal loss: 1.5621\tVal Acc: 0.6870\n",
      "EPOCH 35:\tTrain loss: 0.0977\tVal loss: 1.6010\tVal Acc: 0.6895\n",
      "EPOCH 36:\tTrain loss: 0.0974\tVal loss: 1.6185\tVal Acc: 0.6834\n",
      "EPOCH 37:\tTrain loss: 0.0972\tVal loss: 1.6944\tVal Acc: 0.6844\n",
      "EPOCH 38:\tTrain loss: 0.0978\tVal loss: 1.7636\tVal Acc: 0.6834\n",
      "EPOCH 39:\tTrain loss: 0.0973\tVal loss: 1.7551\tVal Acc: 0.6798\n",
      "EPOCH 40:\tTrain loss: 0.0972\tVal loss: 1.7882\tVal Acc: 0.6829\n",
      "EPOCH 41:\tTrain loss: 0.0975\tVal loss: 1.8220\tVal Acc: 0.6844\n",
      "EPOCH 42:\tTrain loss: 0.0959\tVal loss: 1.8264\tVal Acc: 0.6834\n",
      "EPOCH 43:\tTrain loss: 0.0964\tVal loss: 1.8700\tVal Acc: 0.6767\n",
      "EPOCH 44:\tTrain loss: 0.0963\tVal loss: 1.8954\tVal Acc: 0.6803\n",
      "EPOCH 45:\tTrain loss: 0.0958\tVal loss: 1.9289\tVal Acc: 0.6803\n",
      "EPOCH 46:\tTrain loss: 0.0984\tVal loss: 1.9630\tVal Acc: 0.6829\n",
      "EPOCH 47:\tTrain loss: 0.0970\tVal loss: 1.9354\tVal Acc: 0.6783\n",
      "EPOCH 48:\tTrain loss: 0.0967\tVal loss: 2.0412\tVal Acc: 0.6803\n",
      "EPOCH 49:\tTrain loss: 0.0964\tVal loss: 1.9906\tVal Acc: 0.6824\n",
      "EPOCH 50:\tTrain loss: 0.0965\tVal loss: 2.0120\tVal Acc: 0.6829\n"
     ]
    }
   ],
   "source": [
    "# Huấn luyện mô hình và lưu trữ kết quả mất mát\n",
    "train_losses, val_losses = fit(\n",
    "    model,\n",
    "    train_loader,\n",
    "    val_loader,\n",
    "    criterion,\n",
    "    optimizer,\n",
    "    scheduler,\n",
    "    device,\n",
    "    epochs\n",
    ")\n"
   ]
  },
  {
   "cell_type": "code",
   "execution_count": 34,
   "metadata": {},
   "outputs": [
    {
     "name": "stdout",
     "output_type": "stream",
     "text": [
      "[0.705088718283561, 0.6894041242138031, 0.6691656785626565, 0.6183668091412513, 0.5232329786785187, 0.41434856672440806, 0.3234984271468655, 0.27855464888195836, 0.2301919816001769, 0.21376360988905352, 0.2306525252999798, 0.21262634809940092, 0.19802386782342388, 0.16613497128409724, 0.17251711302707273, 0.15775516028365782, 0.1456147345203546, 0.1510110248721415, 0.14867276121531764, 0.1386112263125758, 0.16120720798930815, 0.1406677576803392, 0.14047547561987753, 0.13557646381518534, 0.17416725211566494, 0.14173919767622026, 0.12392555333433612, 0.1335716364124129, 0.1494719633652318, 0.1326371904823088, 0.12007358345773912, 0.10334789164123996, 0.10029561324946341, 0.0988910246880785, 0.0976889830443167, 0.0973979384908753, 0.0971969542724471, 0.0978025599352775, 0.09733153314840409, 0.09722708958771921, 0.09752553064496286, 0.09591572202982442, 0.09643537893650993, 0.09628213701709624, 0.09575812740912361, 0.09835593943153659, 0.09703077598204536, 0.09671447864703593, 0.09638938139523229, 0.09651495606428193]\n"
     ]
    }
   ],
   "source": [
    "print(train_losses)"
   ]
  },
  {
   "cell_type": "code",
   "execution_count": 35,
   "metadata": {},
   "outputs": [
    {
     "data": {
      "text/plain": [
       "[<matplotlib.lines.Line2D at 0x721e7b39ab90>]"
      ]
     },
     "execution_count": 35,
     "metadata": {},
     "output_type": "execute_result"
    },
    {
     "data": {
      "image/png": "[encoded data removed]",
      "text/plain": [
       "<Figure size 640x480 with 1 Axes>"
      ]
     },
     "metadata": {},
     "output_type": "display_data"
    }
   ],
   "source": [
    "plt.plot(train_losses, label='Train loss')"
   ]
  },
  {
   "cell_type": "code",
   "execution_count": 36,
   "metadata": {},
   "outputs": [
    {
     "name": "stdout",
     "output_type": "stream",
     "text": [
      "[0.6911727414756524, 0.6848598054197969, 0.6785076123769166, 0.6538063795840154, 0.7268654972803398, 0.7748591782616787, 0.8209544175960979, 0.915149341841213, 0.8479815418602991, 0.8799505277735288, 1.0789703941736064, 0.9256409523917026, 0.9997603175092916, 1.1095747366303303, 1.202946738141482, 0.7996844854511198, 1.2501265382180449, 1.2493648323856417, 1.1011383274539572, 1.2585476768798516, 1.0733110721482606, 1.2993006750208433, 1.0849417208648118, 1.3679191985579788, 1.2059420664779474, 1.0706922534059307, 1.3682128855439484, 1.1180855294720071, 1.312000685539402, 1.146625010205097, 1.2577414239039186, 1.4068547946507814, 1.4602201268321178, 1.5621431000897141, 1.6009937632279319, 1.6184627833913585, 1.6944091212554055, 1.7635739709510179, 1.7551186895761333, 1.7882199502382121, 1.8219594193286583, 1.8263855190550695, 1.8700367642230675, 1.8953619863166185, 1.9288861028483657, 1.963022136785945, 1.9354261540975728, 2.04124018891913, 1.9906192519625678, 2.012006396641497]\n"
     ]
    }
   ],
   "source": [
    "print(val_losses)"
   ]
  },
  {
   "cell_type": "code",
   "execution_count": 37,
   "metadata": {},
   "outputs": [
    {
     "data": {
      "text/plain": [
       "[<matplotlib.lines.Line2D at 0x721e7b9f7dc0>]"
      ]
     },
     "execution_count": 37,
     "metadata": {},
     "output_type": "execute_result"
    },
    {
     "data": {
      "image/png": "[encoded data removed]",
      "text/plain": [
       "<Figure size 640x480 with 1 Axes>"
      ]
     },
     "metadata": {},
     "output_type": "display_data"
    }
   ],
   "source": [
    "plt.plot(val_losses, label='Val loss')"
   ]
  },
  {
   "cell_type": "code",
   "execution_count": null,
   "metadata": {},
   "outputs": [],
   "source": []
  }
 ],
 "metadata": {
  "kernelspec": {
   "display_name": "env_vqa",
   "language": "python",
   "name": "python3"
  },
  "language_info": {
   "codemirror_mode": {
    "name": "ipython",
    "version": 3
   },
   "file_extension": ".py",
   "mimetype": "text/x-python",
   "name": "python",
   "nbconvert_exporter": "python",
   "pygments_lexer": "ipython3",
   "version": "3.10.15"
  }
 },
 "nbformat": 4,
 "nbformat_minor": 2
}
